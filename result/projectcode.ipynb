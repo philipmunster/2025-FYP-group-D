{
 "cells": [
  {
   "cell_type": "code",
   "execution_count": null,
   "metadata": {},
   "outputs": [],
   "source": []
  },
  {
   "cell_type": "code",
   "execution_count": null,
   "metadata": {},
   "outputs": [
    {
     "name": "stdout",
     "output_type": "stream",
     "text": [
      "Loaded image: image0.jpg, Shape: (450, 600, 3)\n",
      "Loaded image: img_0410.png, Shape: (288, 384, 3)\n",
      "Loaded image: img_0414.png, Shape: (384, 384, 3)\n",
      "Loaded image: img_0423.png, Shape: (288, 384, 3)\n",
      "Loaded image: img_0517.png, Shape: (288, 384, 3)\n",
      "Loaded image: img_0569.png, Shape: (288, 384, 3)\n"
     ]
    }
   ],
   "source": [
    "import random\n",
    "import os \n",
    "import cv2\n",
    "\n",
    "def readImageFile(file_path):\n",
    "\n",
    "    # read image as an 8-bit array\n",
    "    img_bgr = cv2.imread(file_path)\n",
    "\n",
    "    # convert to RGB\n",
    "    img_rgb = cv2.cvtColor(img_bgr, cv2.COLOR_BGR2RGB)\n",
    "\n",
    "    # convert the original image to grayscale\n",
    "    img_gray = cv2.cvtColor(img_rgb, cv2.COLOR_RGB2GRAY)\n",
    "\n",
    "    return img_rgb, img_gray\n",
    "\n",
    "\n",
    "def saveImageFile(img_rgb, file_path):\n",
    "    try:\n",
    "        # convert BGR\n",
    "        img_bgr = cv2.cvtColor(img_rgb, cv2.COLOR_RGB2BGR)\n",
    "\n",
    "        # save the image\n",
    "        success = cv2.imwrite(file_path, img_bgr)\n",
    "        if not success:\n",
    "            print(f\"Failed to save the image to {file_path}\")\n",
    "        return success\n",
    "\n",
    "    except Exception as e:\n",
    "        print(f\"Error saving the image: {e}\")\n",
    "        return False\n",
    "\n",
    "class ImageDataLoader:\n",
    "    def __init__(self, directory, shuffle=False, transform=None):\n",
    "        self.directory = directory\n",
    "        self.shuffle = shuffle\n",
    "        self.transform = transform\n",
    "\n",
    "        # get a sorted list of all files in the directory\n",
    "        self.file_list = [f for f in os.listdir(directory) if f.endswith(('.jpg', '.png', '.jpeg'))]\n",
    "        self.file_list = sorted(self.file_list)\n",
    "\n",
    "        if not self.file_list:\n",
    "            raise ValueError(\"No image files found in the directory.\")\n",
    "\n",
    "        # shuffle file list if required\n",
    "        if self.shuffle:\n",
    "            random.shuffle(self.file_list)\n",
    "\n",
    "        # get the total number of batches\n",
    "        self.num_batches = len(self.file_list)\n",
    "\n",
    "    def __len__(self):\n",
    "        return self.num_batches\n",
    "\n",
    "    def __iter__(self):\n",
    "        # fill in with your own code below\n",
    "        for file_name in self.file_list:\n",
    "            file_path = os.path.join(self.directory, file_name)\n",
    "\n",
    "            # read the image\n",
    "            img_rgb, img_gray = readImageFile(file_path)\n",
    "\n",
    "            # apply transformation \n",
    "            if self.transform:\n",
    "                img_rgb = self.transform(img_rgb)\n",
    "                img_gray = self.transform(img_gray)\n",
    "\n",
    "            yield img_rgb, img_gray, file_name  \n",
    "\n",
    "\n",
    "image_loader = ImageDataLoader(directory=\"../data\", shuffle=False)\n",
    "\n",
    "\n",
    "for img_rgb, img_gray, filename in image_loader:\n",
    "    print(f\"Loaded image: {filename}, Shape: {img_rgb.shape}\")\n",
    "\n",
    "def removeHair(img_org, img_gray, kernel_size=25, threshold=10, radius=3):\n",
    "    \"\"\"detects and removes hair from images\"\"\"\n",
    "    # kernel for the morphological filtering\n",
    "    kernel = cv2.getStructuringElement(cv2.MORPH_CROSS, (kernel_size, kernel_size))\n",
    "\n",
    "    # perform the blackHat filtering on the grayscale image to find the hair countours\n",
    "    blackhat = cv2.morphologyEx(img_gray, cv2.MORPH_BLACKHAT, kernel)\n",
    "\n",
    "    # intensify the hair countours in preparation for the inpainting algorithm\n",
    "    _, thresh = cv2.threshold(blackhat, threshold, 255, cv2.THRESH_BINARY)\n",
    "\n",
    "    # inpaint the original image depending on the mask\n",
    "    img_out = cv2.inpaint(img_org, thresh, radius, cv2.INPAINT_TELEA)\n",
    "\n",
    "    return blackhat, thresh, img_out\n"
   ]
  },
  {
   "cell_type": "markdown",
   "metadata": {},
   "source": [
    "### Convert to grayscale and save in folder"
   ]
  },
  {
   "cell_type": "code",
   "execution_count": null,
   "metadata": {},
   "outputs": [
    {
     "name": "stdout",
     "output_type": "stream",
     "text": [
      "Now all grayscale images has been saved in the folder /Users/philiphansen/Documents/itu/projects_in_ds/group-D-images/processed_images/gray_images\n"
     ]
    }
   ],
   "source": [
    "# initializing folders for results\n",
    "input_dir = \"/Users/philiphansen/Documents/itu/projects_in_ds/group-D-images\"\n",
    "output_dir = os.path.join(input_dir, \"processed_images\")\n",
    "gray_output_dir = os.path.join(output_dir, \"gray_images\")\n",
    "\n",
    "os.makedirs(gray_output_dir, exist_ok=True)\n",
    "\n",
    "# load all the images using the data loader\n",
    "group_D_images = ImageDataLoader(directory=input_dir, shuffle=False)\n",
    "\n",
    "# Save the grayscale images to the gray output folder\n",
    "i = 393\n",
    "for img_rgb, img_gray, filename in group_D_images:\n",
    "    output_path = os.path.join(gray_output_dir, f\"group_D_img_gray_{i}.png\")\n",
    "    cv2.imwrite(output_path, img_gray)\n",
    "    i += 1\n",
    "\n",
    "print(f\"Now all grayscale images has been saved in the folder {gray_output_dir}\")"
   ]
  },
  {
   "cell_type": "code",
   "execution_count": 44,
   "metadata": {},
   "outputs": [
    {
     "name": "stdout",
     "output_type": "stream",
     "text": [
      "All processed images have been saved in /Users/philiphansen/Documents/itu/projects_in_ds/group-D-images/processed_images\n"
     ]
    }
   ],
   "source": [
    "group_D_file_numbers = list(range(393, 593))\n",
    "\n",
    "for i in range(len(group_D_images)):\n",
    "    # read all the images\n",
    "    img_rgb, img_gray = readImageFile(f\"/Users/philiphansen/Documents/itu/projects_in_ds/group-D-images/{group_D_images.file_list[i]}\")\n",
    "    filename = os.path.splitext(os.path.basename(group_D_images.file_list[i]))[0]\n",
    "\n",
    "    # don't proces images not from group D\n",
    "    if int(filename.removeprefix(\"img_0\")) not in group_D_file_numbers:\n",
    "        continue\n",
    "\n",
    "    #apply the hair removal\n",
    "    blackhat, thresh, img_out = removeHair(img_rgb, img_gray, kernel_size=25, threshold=2, radius=3)\n",
    "\n",
    "    # save the processed images\n",
    "    cv2.imwrite(os.path.join(output_dir, f\"{filename}_blackhat.png\"), blackhat)\n",
    "    cv2.imwrite(os.path.join(output_dir, f\"{filename}_thresh.png\"), thresh)\n",
    "    cv2.imwrite(os.path.join(output_dir, f\"{filename}_processed.png\"), cv2.cvtColor(img_out, cv2.COLOR_RGB2BGR))\n",
    "\n",
    "print(f\"All processed images have been saved in {output_dir}\")"
   ]
  }
 ],
 "metadata": {
  "kernelspec": {
   "display_name": "Python 3",
   "language": "python",
   "name": "python3"
  },
  "language_info": {
   "codemirror_mode": {
    "name": "ipython",
    "version": 3
   },
   "file_extension": ".py",
   "mimetype": "text/x-python",
   "name": "python",
   "nbconvert_exporter": "python",
   "pygments_lexer": "ipython3",
   "version": "3.12.9"
  }
 },
 "nbformat": 4,
 "nbformat_minor": 2
}
