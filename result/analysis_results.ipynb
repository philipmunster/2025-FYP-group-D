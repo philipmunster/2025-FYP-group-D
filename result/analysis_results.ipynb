{
 "cells": [
  {
   "cell_type": "code",
   "execution_count": null,
   "metadata": {},
   "outputs": [
    {
     "data": {
      "text/html": [
       "<div>\n",
       "<style scoped>\n",
       "    .dataframe tbody tr th:only-of-type {\n",
       "        vertical-align: middle;\n",
       "    }\n",
       "\n",
       "    .dataframe tbody tr th {\n",
       "        vertical-align: top;\n",
       "    }\n",
       "\n",
       "    .dataframe thead th {\n",
       "        text-align: right;\n",
       "    }\n",
       "</style>\n",
       "<table border=\"1\" class=\"dataframe\">\n",
       "  <thead>\n",
       "    <tr style=\"text-align: right;\">\n",
       "      <th></th>\n",
       "      <th>Image</th>\n",
       "      <th>Votes for 0</th>\n",
       "      <th>Votes for 1</th>\n",
       "      <th>Votes for 2</th>\n",
       "      <th>Agreeing 0</th>\n",
       "      <th>Agreeing 1</th>\n",
       "      <th>Agreeing 2</th>\n",
       "    </tr>\n",
       "  </thead>\n",
       "  <tbody>\n",
       "    <tr>\n",
       "      <th>0</th>\n",
       "      <td>img_0395.png</td>\n",
       "      <td>3</td>\n",
       "      <td>1</td>\n",
       "      <td>1</td>\n",
       "      <td>[Dara, Marta, Filip]</td>\n",
       "      <td>[Philip]</td>\n",
       "      <td>[Maja]</td>\n",
       "    </tr>\n",
       "    <tr>\n",
       "      <th>1</th>\n",
       "      <td>img_0513.png</td>\n",
       "      <td>1</td>\n",
       "      <td>3</td>\n",
       "      <td>1</td>\n",
       "      <td>[Filip]</td>\n",
       "      <td>[Dara, Marta, Philip]</td>\n",
       "      <td>[Maja]</td>\n",
       "    </tr>\n",
       "  </tbody>\n",
       "</table>\n",
       "</div>"
      ],
      "text/plain": [
       "          Image  Votes for 0  Votes for 1  Votes for 2            Agreeing 0  \\\n",
       "0  img_0395.png            3            1            1  [Dara, Marta, Filip]   \n",
       "1  img_0513.png            1            3            1               [Filip]   \n",
       "\n",
       "              Agreeing 1 Agreeing 2  \n",
       "0               [Philip]     [Maja]  \n",
       "1  [Dara, Marta, Philip]     [Maja]  "
      ]
     },
     "execution_count": 37,
     "metadata": {},
     "output_type": "execute_result"
    }
   ],
   "source": [
    "import pandas as pd\n",
    "\n",
    "df = pd.read_csv(\"results.csv\")\n",
    "brutal_disagreements = []\n",
    "\n",
    "for index, row in df.iterrows():\n",
    "    # get all rankings for the image\n",
    "    rankings = row[['Dara_ranking', 'Marta_ranking', 'Filip_ranking', 'Philip_ranking', 'Maja_ranking']].values\n",
    "    \n",
    "    \n",
    "    if set(rankings) == {0, 1, 2}:  \n",
    "        # count how many people voted for 0, 1, or 2\n",
    "        rank_counts = {0: 0, 1: 0, 2: 0}\n",
    "        for rank in rankings:\n",
    "            rank_counts[rank] += 1\n",
    "\n",
    "        agree_0 = [person for person, rank in zip(['Dara', 'Marta', 'Filip', 'Philip', 'Maja'], rankings) if rank == 0]\n",
    "        agree_1 = [person for person, rank in zip(['Dara', 'Marta', 'Filip', 'Philip', 'Maja'], rankings) if rank == 1]\n",
    "        agree_2 = [person for person, rank in zip(['Dara', 'Marta', 'Filip', 'Philip', 'Maja'], rankings) if rank == 2]\n",
    "        \n",
    "        brutal_disagreements.append({\n",
    "            'Image': row['File_ID'],\n",
    "            'Votes for 0': rank_counts[0],\n",
    "            'Votes for 1': rank_counts[1],\n",
    "            'Votes for 2': rank_counts[2],\n",
    "            'Agreeing 0': agree_0,\n",
    "            'Agreeing 1': agree_1,\n",
    "            'Agreeing 2': agree_2\n",
    "        })\n",
    "\n",
    "\n",
    "brutal_disagreement_df = pd.DataFrame(brutal_disagreements)\n",
    "brutal_disagreement_df\n"
   ]
  }
 ],
 "metadata": {
  "kernelspec": {
   "display_name": "base",
   "language": "python",
   "name": "python3"
  },
  "language_info": {
   "codemirror_mode": {
    "name": "ipython",
    "version": 3
   },
   "file_extension": ".py",
   "mimetype": "text/x-python",
   "name": "python",
   "nbconvert_exporter": "python",
   "pygments_lexer": "ipython3",
   "version": "3.12.4"
  }
 },
 "nbformat": 4,
 "nbformat_minor": 2
}
